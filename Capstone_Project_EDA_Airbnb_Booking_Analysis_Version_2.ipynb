{
  "nbformat": 4,
  "nbformat_minor": 0,
  "metadata": {
    "colab": {
      "private_outputs": true,
      "provenance": [],
      "collapsed_sections": [
        "mDgbUHAGgjLW",
        "bKJF3rekwFvQ",
        "n3dbpmDWp1ck",
        "ylSl6qgtp1ck",
        "ZWILFDl5p1ck",
        "M7G43BXep1ck",
        "Ag9LCva-p1cl",
        "E6MkPsBcp1cl",
        "2cELzS2fp1cl",
        "3MPXvC8up1cl",
        "NC_X3p0fY2L0",
        "UV0SzAkaZNRQ",
        "YPEH6qLeZNRQ",
        "q29F0dvdveiT",
        "EXh0U9oCveiU",
        "22aHeOlLveiV",
        "JcMwzZxoAimU",
        "8G2x9gOozGDZ",
        "gCX9965dhzqZ",
        "gIfDvo9L0UH2"
      ],
      "include_colab_link": true
    },
    "kernelspec": {
      "name": "python3",
      "display_name": "Python 3"
    },
    "language_info": {
      "name": "python"
    }
  },
  "cells": [
    {
      "cell_type": "markdown",
      "metadata": {
        "id": "view-in-github",
        "colab_type": "text"
      },
      "source": [
        "<a href=\"https://colab.research.google.com/github/shashankmorker/AIR_BNB-EDA/blob/main/Capstone_Project_EDA_Airbnb_Booking_Analysis_Version_2.ipynb\" target=\"_parent\"><img src=\"https://colab.research.google.com/assets/colab-badge.svg\" alt=\"Open In Colab\"/></a>"
      ]
    },
    {
      "cell_type": "markdown",
      "source": [
        "# **Project Name**    -\n",
        "\n"
      ],
      "metadata": {
        "id": "vncDsAP0Gaoa"
      }
    },
    {
      "cell_type": "markdown",
      "source": [
        "##### **Project Type**    - EDA/Regression/Classification/Unsupervised\n",
        "##### **Contribution**    - Individual\n",
        "##### **Name**            - Shashank Morker\n"
      ],
      "metadata": {
        "id": "beRrZCGUAJYm"
      }
    },
    {
      "cell_type": "markdown",
      "source": [
        "# **Project Summary -**"
      ],
      "metadata": {
        "id": "FJNUwmbgGyua"
      }
    },
    {
      "cell_type": "markdown",
      "source": [
        "\n",
        "\n",
        "\n",
        "* The objective of this analysis is to identify trends across all variables and understand the factors affecting Airbnb prices in New York City. The insights derived from our study are beneficial for both travelers and hosts in the city, and also provide valuable information for Airbnb's business strategy.\n",
        "\n",
        "* The project involves exploring and cleaning a dataset to make it suitable for analysis. The exploration phase includes understanding the data's characteristics such as data types, missing values, and value distributions. The cleaning phase involves rectifying any inconsistencies in the data, such as errors, missing values, or duplicate entries, and removing outliers.\n",
        "\n",
        "* This process ensures the data is free from errors and ready for further research, which is a crucial step in any data analysis project. It allows us to work with high-quality data and avoid potential biases or errors that could distort the results.\n",
        "\n",
        "* Once the data is cleaned and prepared, it is explored and summarized by describing the data, creating visualizations, and identifying patterns and trends. This exploration may reveal relationships between variables or the root causes of certain patterns or trends.\n",
        "\n",
        "* Data visualization is used to understand patterns in Airbnb data. Various graphs and charts are created, with observations and insights noted beneath each one, to help us better understand the data and identify useful insights and patterns.\n",
        "\n",
        "* The insights gathered from this process will be useful for future Airbnb analysis and decision-making. Furthermore, our analysis provides valuable information for travelers and hosts in the city.\n",
        "\n",
        "\n",
        "\n",
        "\n",
        "\n",
        "\n",
        "\n",
        "\n",
        "\n",
        "\n",
        "\n",
        "\n",
        "\n",
        "\n"
      ],
      "metadata": {
        "id": "F6v_1wHtG2nS"
      }
    },
    {
      "cell_type": "markdown",
      "source": [
        "# **GitHub Link -**"
      ],
      "metadata": {
        "id": "w6K7xa23Elo4"
      }
    },
    {
      "cell_type": "markdown",
      "source": [
        "Provide your GitHub Link here."
      ],
      "metadata": {
        "id": "h1o69JH3Eqqn"
      }
    },
    {
      "cell_type": "markdown",
      "source": [
        "# **Problem Statement**\n"
      ],
      "metadata": {
        "id": "yQaldy8SH6Dl"
      }
    },
    {
      "cell_type": "markdown",
      "source": [
        "**Write Problem Statement Here.**"
      ],
      "metadata": {
        "id": "DpeJGUA3kjGy"
      }
    },
    {
      "cell_type": "markdown",
      "source": [
        "#### **Define Your Business Objective?**"
      ],
      "metadata": {
        "id": "PH-0ReGfmX4f"
      }
    },
    {
      "cell_type": "markdown",
      "source": [
        "Answer Here."
      ],
      "metadata": {
        "id": "PhDvGCAqmjP1"
      }
    },
    {
      "cell_type": "markdown",
      "source": [
        "# **General Guidelines** : -  "
      ],
      "metadata": {
        "id": "mDgbUHAGgjLW"
      }
    },
    {
      "cell_type": "markdown",
      "source": [
        "1.   Well-structured, formatted, and commented code is required.\n",
        "2.   Exception Handling, Production Grade Code & Deployment Ready Code will be a plus. Those students will be awarded some additional credits.\n",
        "     \n",
        "     The additional credits will have advantages over other students during Star Student selection.\n",
        "       \n",
        "             [ Note: - Deployment Ready Code is defined as, the whole .ipynb notebook should be executable in one go\n",
        "                       without a single error logged. ]\n",
        "\n",
        "3.   Each and every logic should have proper comments.\n",
        "4. You may add as many number of charts you want. Make Sure for each and every chart the following format should be answered.\n",
        "        \n",
        "\n",
        "```\n",
        "# Chart visualization code\n",
        "```\n",
        "            \n",
        "\n",
        "*   Why did you pick the specific chart?\n",
        "*   What is/are the insight(s) found from the chart?\n",
        "* Will the gained insights help creating a positive business impact?\n",
        "Are there any insights that lead to negative growth? Justify with specific reason.\n",
        "\n",
        "5. You have to create at least 20 logical & meaningful charts having important insights.\n",
        "\n",
        "\n",
        "[ Hints : - Do the Vizualization in  a structured way while following \"UBM\" Rule.\n",
        "\n",
        "U - Univariate Analysis,\n",
        "\n",
        "B - Bivariate Analysis (Numerical - Categorical, Numerical - Numerical, Categorical - Categorical)\n",
        "\n",
        "M - Multivariate Analysis\n",
        " ]\n",
        "\n",
        "\n",
        "\n"
      ],
      "metadata": {
        "id": "ZrxVaUj-hHfC"
      }
    },
    {
      "cell_type": "markdown",
      "source": [
        "# ***Let's Begin !***"
      ],
      "metadata": {
        "id": "O_i_v8NEhb9l"
      }
    },
    {
      "cell_type": "markdown",
      "source": [
        "## ***1. Know Your Data***"
      ],
      "metadata": {
        "id": "HhfV-JJviCcP"
      }
    },
    {
      "cell_type": "markdown",
      "source": [
        "### Import Libraries"
      ],
      "metadata": {
        "id": "Y3lxredqlCYt"
      }
    },
    {
      "cell_type": "code",
      "source": [
        "# Import Libraries\n",
        "\n",
        "import numpy as np\n",
        "import pandas as pd\n",
        "import matplotlib.pyplot as plt\n",
        "import seaborn as sns\n",
        "import warnings\n",
        "warnings.filterwarnings(\"ignore\")"
      ],
      "metadata": {
        "id": "M8Vqi-pPk-HR"
      },
      "execution_count": null,
      "outputs": []
    },
    {
      "cell_type": "markdown",
      "source": [
        "### Dataset Loading"
      ],
      "metadata": {
        "id": "3RnN4peoiCZX"
      }
    },
    {
      "cell_type": "code",
      "source": [
        "# Load Dataset\n",
        "from google.colab import drive\n",
        "drive.mount('/content/drive')\n"
      ],
      "metadata": {
        "id": "4CkvbW_SlZ_R"
      },
      "execution_count": null,
      "outputs": []
    },
    {
      "cell_type": "code",
      "source": [
        "data = pd.read_csv('/content/drive/MyDrive/Airbnb csv/Airbnb NYC 2019.csv')"
      ],
      "metadata": {
        "id": "wM2K-VDKfj28"
      },
      "execution_count": null,
      "outputs": []
    },
    {
      "cell_type": "markdown",
      "source": [
        "### Dataset First View"
      ],
      "metadata": {
        "id": "x71ZqKXriCWQ"
      }
    },
    {
      "cell_type": "code",
      "source": [
        "# Dataset First Look\n",
        "df = pd.DataFrame(data)\n",
        "df"
      ],
      "metadata": {
        "id": "LWNFOSvLl09H"
      },
      "execution_count": null,
      "outputs": []
    },
    {
      "cell_type": "markdown",
      "source": [
        "### Dataset Rows & Columns count"
      ],
      "metadata": {
        "id": "7hBIi_osiCS2"
      }
    },
    {
      "cell_type": "code",
      "source": [
        "# Dataset Rows & Columns count\n",
        "df.shape # This help us to find total rows and columns in a dataframe."
      ],
      "metadata": {
        "id": "Kllu7SJgmLij"
      },
      "execution_count": null,
      "outputs": []
    },
    {
      "cell_type": "code",
      "source": [
        "df.columns # These are the columns in our dataframe."
      ],
      "metadata": {
        "id": "n1AU84Wyo-wc"
      },
      "execution_count": null,
      "outputs": []
    },
    {
      "cell_type": "markdown",
      "source": [
        "#### **I am renaming few columns for better understanding.**"
      ],
      "metadata": {
        "id": "QSaYKNnRpkZM"
      }
    },
    {
      "cell_type": "code",
      "source": [
        "rename_col = {'id':'listing_id','name':'listing_name','number_of_reviews':'total_reviews','calculated_host_listings_count':'host_listings_count'}"
      ],
      "metadata": {
        "id": "TyNhaSQBpI_K"
      },
      "execution_count": null,
      "outputs": []
    },
    {
      "cell_type": "code",
      "source": [
        "# use a pandas function to rename the current function\n",
        "df = df.rename(columns = rename_col)\n",
        "df.head(2)"
      ],
      "metadata": {
        "id": "HwMRnewyp015"
      },
      "execution_count": null,
      "outputs": []
    },
    {
      "cell_type": "markdown",
      "source": [
        "### Dataset Information"
      ],
      "metadata": {
        "id": "JlHwYmJAmNHm"
      }
    },
    {
      "cell_type": "code",
      "source": [
        "# Dataset Info\n",
        "df.info() # this tells us non-Null count and data type."
      ],
      "metadata": {
        "id": "e9hRXRi6meOf"
      },
      "execution_count": null,
      "outputs": []
    },
    {
      "cell_type": "markdown",
      "source": [
        "#### Duplicate Values"
      ],
      "metadata": {
        "id": "35m5QtbWiB9F"
      }
    },
    {
      "cell_type": "code",
      "source": [
        "# check duplicate rows in dataset\n",
        "df = df.drop_duplicates()\n",
        "df.count()"
      ],
      "metadata": {
        "id": "5ffg_FhnqhTN"
      },
      "execution_count": null,
      "outputs": []
    },
    {
      "cell_type": "code",
      "source": [
        "df.duplicated().sum()"
      ],
      "metadata": {
        "id": "dk_l-6jTGatF"
      },
      "execution_count": null,
      "outputs": []
    },
    {
      "cell_type": "markdown",
      "source": [
        "##### **We donot have duplicate rows in our dataframe.**"
      ],
      "metadata": {
        "id": "VKZVa7oUqwKV"
      }
    },
    {
      "cell_type": "markdown",
      "source": [
        "#### Missing Values/Null Values"
      ],
      "metadata": {
        "id": "PoPl-ycgm1ru"
      }
    },
    {
      "cell_type": "code",
      "source": [
        "# Missing Values/Null Values Count\n",
        "df.isna().sum()"
      ],
      "metadata": {
        "id": "GgHWkxvamxVg"
      },
      "execution_count": null,
      "outputs": []
    },
    {
      "cell_type": "markdown",
      "source": [
        "##### **We have very few NA values in listing_name and host_name so I will be removing them in the upcoming steps**"
      ],
      "metadata": {
        "id": "GtB0CTXes0_3"
      }
    },
    {
      "cell_type": "markdown",
      "source": [
        "### What did you know about your dataset?"
      ],
      "metadata": {
        "id": "H0kj-8xxnORC"
      }
    },
    {
      "cell_type": "markdown",
      "source": [
        "* This Airbnb dataset from New York contains nearly 49,000 observations in 16 columns of data.\n",
        "\n",
        "* The Data contains both categorical and numerical values, providing a wide range of information about the listings.\n",
        "\n",
        "* This Dataset may be useful for analyzing trends and patterns in the New York Airbnb market, as well as gaining insights into the preferences and behavior of Airbnb users in the area.\n",
        "\n",
        "* This dataset contains information about Airbnb bookings in New York City in 2019. By analyzing this data, you may be able to understand the trends and patterns of Airbnb use in New York City.\n",
        "\n",
        "\n",
        "\n"
      ],
      "metadata": {
        "id": "gfoNAAC-nUe_"
      }
    },
    {
      "cell_type": "markdown",
      "source": [
        "## ***2. Understanding Your Variables***"
      ],
      "metadata": {
        "id": "nA9Y7ga8ng1Z"
      }
    },
    {
      "cell_type": "code",
      "source": [
        "# Dataset Columns\n",
        "df.columns"
      ],
      "metadata": {
        "id": "j7xfkqrt5Ag5"
      },
      "execution_count": null,
      "outputs": []
    },
    {
      "cell_type": "code",
      "source": [
        "# Dataset Describe\n",
        "df.describe()"
      ],
      "metadata": {
        "id": "DnOaZdaE5Q5t"
      },
      "execution_count": null,
      "outputs": []
    },
    {
      "cell_type": "markdown",
      "source": [
        "### **Variables Description**"
      ],
      "metadata": {
        "id": "PBTbrJXOngz2"
      }
    },
    {
      "cell_type": "markdown",
      "source": [
        "* **Listing_id** :- This is a unique identifier for each listing in the dataset.\n",
        "\n",
        "* **Listing_name**:- This is the name or title of the listing, as it appears on the Airbnb website.\n",
        "\n",
        "* **Host_id**:- This is a unique identifier for each host in the dataset.\n",
        "\n",
        "* **Host_name** :- This is the name of the host as it appears on the Airbnb website.\n",
        "\n",
        "* **Neighbourhood_group**:- This is a grouping of neighborhoods in New York City, such as Manhattan or Brooklyn.\n",
        "\n",
        "* **Neighbourhood** :- This is the specific neighborhood in which the listing is located.\n",
        "\n",
        "* **Latitude** :- This is the geographic latitude of the listing.\n",
        "\n",
        "* **Longitude**:- This is the geographic longitude of the listing.\n",
        "\n",
        "* **Room_type** :- This is the type of room or property being offered, such as an entire home, private room, shared room.\n",
        "\n",
        "* **Price** :- This is the nightly price for the listing, in US dollars.\n",
        "\n",
        "* **Minimum_nights** :- This is the minimum number of nights that a guest must stay at the listing.\n",
        "\n",
        "* **Total_reviews** :- This is the total number of reviews that the listing has received.\n",
        "\n",
        "* **Reviews_per_month**:- This is the average number of reviews that the listing receives per month.\n",
        "\n",
        "* **Host_listings_count**:- This is the total number of listings that the host has on Airbnb.\n",
        "\n",
        "* **Availability_365** :- This is the number of days in the next 365 days that the listing is available for booking.\n",
        "\n",
        "\n",
        "\n",
        "\n",
        "\n"
      ],
      "metadata": {
        "id": "aJV4KIxSnxay"
      }
    },
    {
      "cell_type": "markdown",
      "source": [
        "### **Check Unique Values for each variable.**"
      ],
      "metadata": {
        "id": "u3PMJOP6ngxN"
      }
    },
    {
      "cell_type": "code",
      "source": [
        "# Check Unique Values for each variable.\n",
        "# All the listing ids are different and each listings are different here.\n",
        "df['listing_id'].nunique()"
      ],
      "metadata": {
        "id": "zms12Yq5n-jE"
      },
      "execution_count": null,
      "outputs": []
    },
    {
      "cell_type": "code",
      "source": [
        "# There are 221 unique neighborhood in Dataset\n",
        "df['neighbourhood'].nunique()"
      ],
      "metadata": {
        "id": "Za2u9GCkDJlE"
      },
      "execution_count": null,
      "outputs": []
    },
    {
      "cell_type": "code",
      "source": [
        "# There are total 5 unique neighborhood_group in Dataset\n",
        "df['neighbourhood_group'].nunique()"
      ],
      "metadata": {
        "id": "GIVeDmMEDTU7"
      },
      "execution_count": null,
      "outputs": []
    },
    {
      "cell_type": "code",
      "source": [
        "# There are total 11453 different hosts in Airbnb-NYC\n",
        "df['host_name'].nunique()"
      ],
      "metadata": {
        "id": "AhsvrtQbDigz"
      },
      "execution_count": null,
      "outputs": []
    },
    {
      "cell_type": "code",
      "source": [
        "# Most of the listing/property are different in Dataset\n",
        "df['listing_name'].nunique()"
      ],
      "metadata": {
        "id": "NCbHB23QDt2P"
      },
      "execution_count": null,
      "outputs": []
    },
    {
      "cell_type": "code",
      "source": [
        "# We have same host which is David operates different 402 listing/property.\n",
        "df[df['host_name']=='David']['listing_name'].nunique()\n"
      ],
      "metadata": {
        "id": "a8_wDZIXEhQJ"
      },
      "execution_count": null,
      "outputs": []
    },
    {
      "cell_type": "code",
      "source": [
        "#Same hosts have many listings in same neighbourhood_groups with different room type or same/different room_type in other neighbporhood.\n",
        "df.loc[(df['neighbourhood_group']=='Manhattan') & (df['host_name']=='John')]\n"
      ],
      "metadata": {
        "id": "Uh7Ouc3-bjOi"
      },
      "execution_count": null,
      "outputs": []
    },
    {
      "cell_type": "code",
      "source": [
        "# There are few listings where the listing/property name and the host have same names.\n",
        "df[df['listing_name']==df['host_name']].head()"
      ],
      "metadata": {
        "id": "pmuBKcnHGFYJ"
      },
      "execution_count": null,
      "outputs": []
    },
    {
      "cell_type": "markdown",
      "source": [
        "## 3. ***Data Wrangling***"
      ],
      "metadata": {
        "id": "dauF4eBmngu3"
      }
    },
    {
      "cell_type": "markdown",
      "source": [
        "### Data Wrangling Code"
      ],
      "metadata": {
        "id": "bKJF3rekwFvQ"
      }
    },
    {
      "cell_type": "markdown",
      "source": [
        "### **Note:**\n",
        "##### **I tried removing all the rows which are having null values but because of that 20% of the data was being removed which is not acceptable. Instead I removed last_review column which I felt was not that useful. and can have all other data to work on.**"
      ],
      "metadata": {
        "id": "YnQY_7YGH8TA"
      }
    },
    {
      "cell_type": "code",
      "source": [
        "# Write your code to make your dataset analysis ready.\n",
        "df = df.drop(['last_review'], axis=1) # Removed last_review column from dataframe."
      ],
      "metadata": {
        "id": "wk-9a2fpoLcV"
      },
      "execution_count": null,
      "outputs": []
    },
    {
      "cell_type": "code",
      "source": [
        "# Visualizing the missing values\n",
        "df.sample(15) # We are checking random 15 rows to check NA values."
      ],
      "metadata": {
        "id": "HKcWj8RfIR3t"
      },
      "execution_count": null,
      "outputs": []
    },
    {
      "cell_type": "markdown",
      "source": [
        "#### **I am filling missing values in reviews_per_month column.**"
      ],
      "metadata": {
        "id": "mVKvaKppJDt3"
      }
    },
    {
      "cell_type": "code",
      "source": [
        "df['reviews_per_month'].fillna(value=df['reviews_per_month'].mean(), inplace=True)\n",
        "df['reviews_per_month'] = df['reviews_per_month'].round(1)"
      ],
      "metadata": {
        "id": "3jP697RIIbqI"
      },
      "execution_count": null,
      "outputs": []
    },
    {
      "cell_type": "code",
      "source": [
        "df.sample(15)"
      ],
      "metadata": {
        "id": "NmSD2Wb6ImBT"
      },
      "execution_count": null,
      "outputs": []
    },
    {
      "cell_type": "code",
      "source": [
        "df = df.dropna()"
      ],
      "metadata": {
        "id": "lWDT-bOQIrNk"
      },
      "execution_count": null,
      "outputs": []
    },
    {
      "cell_type": "code",
      "source": [
        "df.isna().sum() # We don't have Na values now."
      ],
      "metadata": {
        "id": "zQ_lpZrjIxHy"
      },
      "execution_count": null,
      "outputs": []
    },
    {
      "cell_type": "code",
      "source": [
        "df.shape # This the current number of rows and columns in our dataframe."
      ],
      "metadata": {
        "id": "b1O7WyLUI3NQ"
      },
      "execution_count": null,
      "outputs": []
    },
    {
      "cell_type": "markdown",
      "source": [
        "## **What all manipulations have you done and insights you found?**"
      ],
      "metadata": {
        "id": "MSa1f5Uengrz"
      }
    },
    {
      "cell_type": "markdown",
      "source": [
        "### **Manipulations done:**\n",
        "I was given a dataset of Airbnb bookings,so here I noticed there are few missing names in listing_names and host_names columns. There are over 10k missing values in last_review and reviews_per_month columns. So I deleted last review column and filled missing values in reviews_per_month column using mean. Lastly I removed those few missing names from listing_names and host_names and managed to clean the data.\n",
        "\n",
        "### **Insights found:**\n",
        "\n",
        "* There are few listings where the listing/property name and the host have same names.\n",
        "\n",
        "* We have same host which is David operates different 402 listing/property.\n",
        "\n",
        "* Most of the listing/property are different in Dataset\n",
        "\n",
        "* There are total 11453 different hosts in Airbnb-NYC\n",
        "\n",
        "* There are total 5 unique neighborhood_group in Dataset\n",
        "\n",
        "* There are 221 unique neighborhood in Dataset\n",
        "\n",
        "* All the listing ids are different and each listings are different here.\n",
        "\n",
        "\n",
        "\n",
        "\n",
        "\n",
        "\n",
        "\n"
      ],
      "metadata": {
        "id": "LbyXE7I1olp8"
      }
    },
    {
      "cell_type": "markdown",
      "source": [
        "### **Columns:**\n",
        "#### Room_type, neighbourhood, neighbourhood_group are categorical, hence I am changing their type to categorical."
      ],
      "metadata": {
        "id": "mkMMpSEqVdbw"
      }
    },
    {
      "cell_type": "code",
      "source": [
        "df.room_type = df.room_type.astype(\"category\")"
      ],
      "metadata": {
        "id": "Kp3mloTIVXdg"
      },
      "execution_count": null,
      "outputs": []
    },
    {
      "cell_type": "code",
      "source": [
        "df.neighbourhood = df.neighbourhood.astype(\"category\")"
      ],
      "metadata": {
        "id": "sI80sRoXVp1u"
      },
      "execution_count": null,
      "outputs": []
    },
    {
      "cell_type": "code",
      "source": [
        "df.neighbourhood_group = df.neighbourhood_group.astype(\"category\")"
      ],
      "metadata": {
        "id": "kK9z44E1VppZ"
      },
      "execution_count": null,
      "outputs": []
    },
    {
      "cell_type": "code",
      "source": [
        "df.info() # We can see their type has been chnged to categorical."
      ],
      "metadata": {
        "id": "pa3j8qrJVuYw"
      },
      "execution_count": null,
      "outputs": []
    },
    {
      "cell_type": "markdown",
      "source": [
        "## ***4. Data Vizualization, Storytelling & Experimenting with charts : Understand the relationships between variables***"
      ],
      "metadata": {
        "id": "GF8Ens_Soomf"
      }
    },
    {
      "cell_type": "markdown",
      "source": [
        "#### Chart - 1"
      ],
      "metadata": {
        "id": "0wOQAZs5pc--"
      }
    },
    {
      "cell_type": "markdown",
      "source": [
        "#### **Checking outliers in price column using boxplot.**"
      ],
      "metadata": {
        "id": "SbbWExFWFq-y"
      }
    },
    {
      "cell_type": "code",
      "source": [
        "# Chart - 1 visualization code\n",
        "sns.boxplot(x = 'price', data = df)\n",
        "plt.show() # we can see we have many outliers"
      ],
      "metadata": {
        "id": "7v_ESjsspbW7"
      },
      "execution_count": null,
      "outputs": []
    },
    {
      "cell_type": "markdown",
      "source": [
        "#### **Removing outliers using Inter Quartile Range.**"
      ],
      "metadata": {
        "id": "y7TMmk3xF12u"
      }
    },
    {
      "cell_type": "code",
      "source": [
        "def remove_outliers(df, column_name):\n",
        "    \"\"\"\n",
        "    Remove outliers from a specific column in a DataFrame using the IQR method.\n",
        "\n",
        "    Parameters:\n",
        "    - df: pandas DataFrame\n",
        "    - column_name: Name of the column for outlier removal\n",
        "\n",
        "    Returns:\n",
        "    - DataFrame with outliers removed\n",
        "    \"\"\"\n",
        "\n",
        "    # Calculate the first and third quartiles\n",
        "    Q1 = df[column_name].quantile(0.25)\n",
        "    Q3 = df[column_name].quantile(0.75)\n",
        "\n",
        "    # Calculate the IQR (Interquartile Range)\n",
        "    IQR = Q3 - Q1\n",
        "\n",
        "    # Define the lower and upper bounds for outlier removal\n",
        "    lower_bound = Q1 - 1.5 * IQR\n",
        "    upper_bound = Q3 + 1.5 * IQR\n",
        "\n",
        "    # Remove outliers\n",
        "    df_no_outliers = df[(df[column_name] >= lower_bound) & (df[column_name] <= upper_bound)]\n",
        "\n",
        "    return df_no_outliers\n",
        "\n",
        "updated_df = remove_outliers(df, 'price')"
      ],
      "metadata": {
        "id": "CxSowS9FWKCG"
      },
      "execution_count": null,
      "outputs": []
    },
    {
      "cell_type": "code",
      "source": [
        "# Here I am checking how much data is removed of original data.\n",
        "c = round(((df.shape[0] - updated_df.shape[0]) / df.shape[0])*100 , 2)\n",
        "print(f'Removed Outliers which consisted of {c} % of the orignal data')"
      ],
      "metadata": {
        "id": "Ti15rjorWTpm"
      },
      "execution_count": null,
      "outputs": []
    },
    {
      "cell_type": "markdown",
      "source": [
        "#### **This is a new boxplot with fewer outliers.**"
      ],
      "metadata": {
        "id": "lIOXPh1VGsP1"
      }
    },
    {
      "cell_type": "code",
      "source": [
        "sns.boxplot(x = 'price', data = updated_df)\n",
        "plt.show()"
      ],
      "metadata": {
        "id": "SoOcX-0HWLdc"
      },
      "execution_count": null,
      "outputs": []
    },
    {
      "cell_type": "markdown",
      "source": [
        "##### **1. Why did you pick the specific chart?**"
      ],
      "metadata": {
        "id": "K5QZ13OEpz2H"
      }
    },
    {
      "cell_type": "markdown",
      "source": [
        "I picked boxplot to mainly check how much outliers I am having in my price column. After checking I managed to remove the outliers by doing IQR method.  "
      ],
      "metadata": {
        "id": "XESiWehPqBRc"
      }
    },
    {
      "cell_type": "markdown",
      "source": [
        "##### **2. What is/are the insight(s) found from the chart?**"
      ],
      "metadata": {
        "id": "lQ7QKXXCp7Bj"
      }
    },
    {
      "cell_type": "markdown",
      "source": [
        "Insights found by using this chart is the outiers count is very high in **\"price column\"** and after removing the outlier I found that removed Outliers consisted of **\"6.08 %\"** of the orignal data. But I guess that is fine considering the total amount of data.  "
      ],
      "metadata": {
        "id": "C_j1G7yiqdRP"
      }
    },
    {
      "cell_type": "markdown",
      "source": [
        "##### **3. Will the gained insights help creating a positive business impact?**\n",
        "#### **Are there any insights that lead to negative growth? Justify with specific reason.**"
      ],
      "metadata": {
        "id": "448CDAPjqfQr"
      }
    },
    {
      "cell_type": "markdown",
      "source": [
        "The gained insight can be used to do further analysis and gather more data.\n",
        "\n",
        "There are no negative insights from this chart."
      ],
      "metadata": {
        "id": "3cspy4FjqxJW"
      }
    },
    {
      "cell_type": "markdown",
      "source": [
        "#### Chart - 2"
      ],
      "metadata": {
        "id": "KSlN3yHqYklG"
      }
    },
    {
      "cell_type": "markdown",
      "source": [
        "#### **After removing the outliers from 'Price' column, I used that to find the price distribution of Airbnb.**"
      ],
      "metadata": {
        "id": "oG4KdR55HeJF"
      }
    },
    {
      "cell_type": "code",
      "source": [
        "# Chart - 2 visualization code\n",
        "\n",
        "# Create a figure with a custom size\n",
        "plt.figure(figsize=(12, 6))\n",
        "\n",
        "# Set the seaborn theme to darkgrid\n",
        "sns.set_theme(style='darkgrid')\n",
        "\n",
        "# Create a histogram of the 'price' column of the dataframe\n",
        "# using sns distplot function and specifying the color as red\n",
        "sns.distplot(updated_df['price'],color=('r'))\n",
        "\n",
        "# Add labels to the x-axis and y-axis\n",
        "plt.xlabel('Price', fontsize=14)\n",
        "plt.ylabel('Density', fontsize=14)\n",
        "\n",
        "# Add a title to the plot\n",
        "plt.title('Distribution of Airbnb Prices',fontsize=15)\n",
        "plt.show()"
      ],
      "metadata": {
        "id": "R4YgtaqtYklH"
      },
      "execution_count": null,
      "outputs": []
    },
    {
      "cell_type": "markdown",
      "source": [
        "##### **1. Why did you pick the specific chart?**"
      ],
      "metadata": {
        "id": "t6dVpIINYklI"
      }
    },
    {
      "cell_type": "markdown",
      "source": [
        "I picked this chart so that I would have an idea about the distribution of the Airbnb prices and know the range from min to max and peek range based on density"
      ],
      "metadata": {
        "id": "5aaW0BYyYklI"
      }
    },
    {
      "cell_type": "markdown",
      "source": [
        "##### **2. What is/are the insight(s) found from the chart?**"
      ],
      "metadata": {
        "id": "ijmpgYnKYklI"
      }
    },
    {
      "cell_type": "markdown",
      "source": [
        "* The prices charged on Airbnb appear to range from **20 dollars** to **330 dollars**.\n",
        "\n",
        "* Maximum number of bookings are ranging between **50 dollars** to **150 dollars**, compared to other listings which were below 50 dollars and above 150 dollars.\n",
        "\n",
        "* There may be fewer bookings available at prices **above 250 dollars**, as the density of listings drops significantly in this range.   "
      ],
      "metadata": {
        "id": "PSx9atu2YklI"
      }
    },
    {
      "cell_type": "markdown",
      "source": [
        "##### **3. Will the gained insights help creating a positive business impact?**\n",
        "**Are there any insights that lead to negative growth? Justify with specific reason.**"
      ],
      "metadata": {
        "id": "-JiQyfWJYklI"
      }
    },
    {
      "cell_type": "markdown",
      "source": [
        "With this insight we can understand that the demand for room booking is maximum between 50 dollars and 150 dollars, so the company must focus on providing rooms at this price range for maximum profits. Also to make sure not to exceed booking price above 300 dollars as there is drastic down fall in the graph which shows similar to no bookings at all."
      ],
      "metadata": {
        "id": "BcBbebzrYklV"
      }
    },
    {
      "cell_type": "markdown",
      "source": [
        "#### Chart - 3"
      ],
      "metadata": {
        "id": "EM7whBJCYoAo"
      }
    },
    {
      "cell_type": "markdown",
      "source": [
        "#### **Checking higest and lowest bookings in different Neighbourhood_groups.**"
      ],
      "metadata": {
        "id": "OPutYN9IIXNh"
      }
    },
    {
      "cell_type": "code",
      "source": [
        "# Chart - 3 visualization code\n",
        "sns.countplot(y = df[\"neighbourhood_group\"], order = df[\"neighbourhood_group\"].value_counts().index)\n",
        "plt.title('Different Neighbourhood Groups')\n",
        "plt.show()"
      ],
      "metadata": {
        "id": "t6GMdE67YoAp"
      },
      "execution_count": null,
      "outputs": []
    },
    {
      "cell_type": "markdown",
      "source": [
        "##### **1. Why did you pick the specific chart?**"
      ],
      "metadata": {
        "id": "fge-S5ZAYoAp"
      }
    },
    {
      "cell_type": "markdown",
      "source": [
        "I chose count plot to check the higest booking and least booking in different Neighbourhood_groups."
      ],
      "metadata": {
        "id": "5dBItgRVYoAp"
      }
    },
    {
      "cell_type": "markdown",
      "source": [
        "##### **2. What is/are the insight(s) found from the chart?**"
      ],
      "metadata": {
        "id": "85gYPyotYoAp"
      }
    },
    {
      "cell_type": "markdown",
      "source": [
        "* I found out that maximum number of bookings are in Manhattan and Brooklyn.\n",
        "\n",
        "* Least number of bookings are in Staten Island.\n",
        "\n",
        "\n"
      ],
      "metadata": {
        "id": "4jstXR6OYoAp"
      }
    },
    {
      "cell_type": "markdown",
      "source": [
        "##### **3. Will the gained insights help creating a positive business impact?**\n",
        "Are there any insights that lead to negative growth? Justify with specific reason."
      ],
      "metadata": {
        "id": "RoGjAbkUYoAp"
      }
    },
    {
      "cell_type": "markdown",
      "source": [
        "Since maximum number of bookings are in Manhattan and Brooklyn, company must focus on expanding more in these neighbourhood_groups. Also should focus on improving booking rate in other neighbourhood_groups as well."
      ],
      "metadata": {
        "id": "zfJ8IqMcYoAp"
      }
    },
    {
      "cell_type": "markdown",
      "source": [
        "#### **Chart - 4**"
      ],
      "metadata": {
        "id": "4Of9eVA-YrdM"
      }
    },
    {
      "cell_type": "markdown",
      "source": [
        "#### **Checking top 20 neighbourhoods on the basis of no of listings in entire NYC.**"
      ],
      "metadata": {
        "id": "ih-ZqwpNIoTB"
      }
    },
    {
      "cell_type": "code",
      "source": [
        "# Chart - 4 visualization code\n",
        "\n",
        "#checking top 20 neighbourhoods on the basis of no of listings in entire NYC!\n",
        "\n",
        "top_20_neigbourhood = df['neighbourhood'].value_counts()[:20]\n",
        "top_20_neigbourhood.plot(kind = 'bar',figsize=(12, 6), color = 'purple')\n",
        "plt.xlabel('Neighbourhood')\n",
        "plt.ylabel('Counts in entire NYC')\n",
        "plt.title('Top neighbourhoods in entire NYC on the basis of count of listings')\n",
        "plt.show()"
      ],
      "metadata": {
        "id": "irlUoxc8YrdO"
      },
      "execution_count": null,
      "outputs": []
    },
    {
      "cell_type": "markdown",
      "source": [
        "##### **1. Why did you pick the specific chart?**"
      ],
      "metadata": {
        "id": "iky9q4vBYrdO"
      }
    },
    {
      "cell_type": "markdown",
      "source": [
        "I pick this chart to shows which neighbourhood had most no of booking."
      ],
      "metadata": {
        "id": "aJRCwT6DYrdO"
      }
    },
    {
      "cell_type": "markdown",
      "source": [
        "##### **2. What is/are the insight(s) found from the chart?**"
      ],
      "metadata": {
        "id": "F6T5p64dYrdO"
      }
    },
    {
      "cell_type": "markdown",
      "source": [
        "* The top neighborhoods in New York City in terms of listing counts are Williamsburg, Bedford-Stuyvesant, Harlem, Bushwick, and the Upper West Side.\n",
        "\n",
        "* The top neighborhoods are primarily located in Brooklyn and Manhattan. This may be due to the fact that these boroughs have a higher overall population and a higher demand for housing.\n",
        "\n",
        "* The number of listings alone may not be indicative of the overall demand for housing in a particular neighborhood, as other factors such as the cost of living and the availability of housing may also play a significant role.\n",
        "\n",
        "\n",
        "\n",
        "\n"
      ],
      "metadata": {
        "id": "Xx8WAJvtYrdO"
      }
    },
    {
      "cell_type": "markdown",
      "source": [
        "##### **3. Will the gained insights help creating a positive business impact?**\n",
        "**Are there any insights that lead to negative growth? Justify with specific reason.**"
      ],
      "metadata": {
        "id": "y-Ehk30pYrdP"
      }
    },
    {
      "cell_type": "markdown",
      "source": [
        "With the help of this data we can find target places to improve services at those and it will also help to get profit by limiting the advertisement market area so we can minimize the cost, also we should keep into consideration about the cost of living and the availability of housing and to keep the prices based on demand and area to increase the profit."
      ],
      "metadata": {
        "id": "jLNxxz7MYrdP"
      }
    },
    {
      "cell_type": "markdown",
      "source": [
        "#### Chart - 5"
      ],
      "metadata": {
        "id": "bamQiAODYuh1"
      }
    },
    {
      "cell_type": "markdown",
      "source": [
        "#### **Checking top 10 hosts in the Airbnb NYC dataset based on the number of listings each host has.**"
      ],
      "metadata": {
        "id": "YcFR75EcJLEV"
      }
    },
    {
      "cell_type": "code",
      "source": [
        "# Chart - 5 visualization code\n",
        "\n",
        "# create a new DataFrame that displays the top 10 hosts in the Airbnb NYC dataset based on the number of listings each host has\n",
        "top_10_hosts = df['host_name'].value_counts()[:10].reset_index()\n",
        "\n",
        "# rename the columns of the resulting DataFrame to 'host_name' and 'Total_listings'\n",
        "top_10_hosts.columns = ['Host_name', 'Total_listings']\n",
        "\n",
        "# display the resulting DataFrame\n",
        "top_10_hosts"
      ],
      "metadata": {
        "id": "TIJwrbroYuh3"
      },
      "execution_count": null,
      "outputs": []
    },
    {
      "cell_type": "code",
      "source": [
        "top_hosts = df['host_name'].value_counts()[:10]\n",
        "\n",
        "# Create a bar plot of the top 10 hosts\n",
        "top_hosts.plot(kind='bar', color='chocolate', figsize=(12, 6))\n",
        "\n",
        "# Set the x-axis label\n",
        "plt.xlabel('Top10_hosts', fontsize=14)\n",
        "\n",
        "# Set the y-axis label\n",
        "plt.ylabel('Total_NYC_listings', fontsize=14)\n",
        "\n",
        "# Set the title of the plot\n",
        "plt.title('Top 10 hosts on the basis of number of listings in entire NYC', fontsize=15)\n",
        "plt.show()"
      ],
      "metadata": {
        "id": "aXr1vzeOpf-Y"
      },
      "execution_count": null,
      "outputs": []
    },
    {
      "cell_type": "markdown",
      "source": [
        "##### 1. Why did you pick the specific chart?"
      ],
      "metadata": {
        "id": "QHF8YVU7Yuh3"
      }
    },
    {
      "cell_type": "markdown",
      "source": [
        "I chose this graph because this data is categorical and I need to find top 10 hosts on the basis of their listings in entire NYC."
      ],
      "metadata": {
        "id": "dcxuIMRPYuh3"
      }
    },
    {
      "cell_type": "markdown",
      "source": [
        "##### 2. What is/are the insight(s) found from the chart?"
      ],
      "metadata": {
        "id": "GwzvFGzlYuh3"
      }
    },
    {
      "cell_type": "markdown",
      "source": [
        "* The top three hosts in terms of total listings are Michael, David and Sounder (NYC) who have 417, 403, and 327 listings, respectively.\n",
        "\n",
        "* There is a significant difference between the top hosts and the rest of the hosts. For example, Sounder (NYC) has 327 listings, compared to Michael's 417 listings.\n",
        "\n",
        "* Maria has 204 listings in this top10 list, which is significantly less than Michael's 417 listings. This may indicate that the success rate of different Airbnb hosts varies greatly.\n",
        "\n",
        "* There are only a few hosts who have plenty of listings. This indicates that the Airbnb market is competitive, with just a handful of hosts controlling a large portion of the marketplace.\n",
        "\n"
      ],
      "metadata": {
        "id": "uyqkiB8YYuh3"
      }
    },
    {
      "cell_type": "markdown",
      "source": [
        "##### 3. Will the gained insights help creating a positive business impact?\n",
        "Are there any insights that lead to negative growth? Justify with specific reason."
      ],
      "metadata": {
        "id": "qYpmQ266Yuh3"
      }
    },
    {
      "cell_type": "markdown",
      "source": [
        "There are 3 main player here who has most number of listings in Airbnb. This indicates Airbnb is competitive and dominative. Since there are dominant players present in the market, it would be tough for new hosts to enter the market. Airbnb must focus on introducing schemes and benefits for emerging hosts, Ultimately it will be useful for company too.   "
      ],
      "metadata": {
        "id": "_WtzZ_hCYuh4"
      }
    },
    {
      "cell_type": "markdown",
      "source": [
        "#### Chart - 6"
      ],
      "metadata": {
        "id": "OH-pJp9IphqM"
      }
    },
    {
      "cell_type": "markdown",
      "source": [
        "#### **Checking total counts of each room type.**"
      ],
      "metadata": {
        "id": "xjGgg8m9KvLH"
      }
    },
    {
      "cell_type": "code",
      "source": [
        "# create a new DataFrame that displays the number of listings of each room type in the Airbnb NYC dataset\n",
        "top_room_type = df['room_type'].value_counts().reset_index()\n",
        "\n",
        "# rename the columns of the resulting DataFrame to 'Room_Type' and 'Total_counts'\n",
        "top_room_type.columns = ['Room_Type', 'Total_counts']\n",
        "\n",
        "# display the resulting DataFrame\n",
        "top_room_type"
      ],
      "metadata": {
        "id": "IQ7eVuCtJ_bL"
      },
      "execution_count": null,
      "outputs": []
    },
    {
      "cell_type": "code",
      "source": [
        "# Set the figure size\n",
        "plt.figure(figsize=(10, 6))\n",
        "\n",
        "# Get the room type counts\n",
        "room_type_counts = df['room_type'].value_counts()\n",
        "\n",
        "# Set the labels and sizes for the pie chart\n",
        "labels = room_type_counts.index\n",
        "sizes = room_type_counts.values\n",
        "\n",
        "# Create the pie chart\n",
        "plt.pie(sizes, labels=labels, autopct='%1.1f%%')\n",
        "\n",
        "# Add a legend to the chart\n",
        "plt.legend(title='Room Type', bbox_to_anchor=(0.8, 0, 0.5, 1), fontsize='12')\n",
        "plt.title('Percentage use of different room_types')\n",
        "# Show the plot\n",
        "plt.show()"
      ],
      "metadata": {
        "id": "7o3xeFJmKczF"
      },
      "execution_count": null,
      "outputs": []
    },
    {
      "cell_type": "markdown",
      "source": [
        "##### 1. Why did you pick the specific chart?"
      ],
      "metadata": {
        "id": "bbFf2-_FphqN"
      }
    },
    {
      "cell_type": "markdown",
      "source": [
        "To show the percentage use of different room_types."
      ],
      "metadata": {
        "id": "loh7H2nzphqN"
      }
    },
    {
      "cell_type": "markdown",
      "source": [
        "##### 2. What is/are the insight(s) found from the chart?"
      ],
      "metadata": {
        "id": "_ouA3fa0phqN"
      }
    },
    {
      "cell_type": "markdown",
      "source": [
        "* Airbnb has 25393 listings for entire homes or apartments, followed by 22306 listings for private rooms and 1159 listings for shared rooms.\n",
        "\n",
        "* The number of listings for each room type varies greatly. There are nearly 20 times more listings for entire homes or apartments than there are for shared rooms.\n",
        "\n",
        "* According to the data, travelers who use Airbnb have a wide range of accommodation options to choose from, including private rooms and entire homes or apartments."
      ],
      "metadata": {
        "id": "VECbqPI7phqN"
      }
    },
    {
      "cell_type": "markdown",
      "source": [
        "##### 3. Will the gained insights help creating a positive business impact?\n",
        "Are there any insights that lead to negative growth? Justify with specific reason."
      ],
      "metadata": {
        "id": "Seke61FWphqN"
      }
    },
    {
      "cell_type": "markdown",
      "source": [
        "The percentage of entire houses/appt is 52.0 %. The percentage for private rooms is 45.7 %. Lastly the percentage of shared rooms is just 2.4 %. So this data enables us to determine that the majority of people want to rent an entire house/apt, so our data suggests that the company should focus on making/listing/availability of entire houses/apartments or private rooms."
      ],
      "metadata": {
        "id": "DW4_bGpfphqN"
      }
    },
    {
      "cell_type": "markdown",
      "source": [
        "#### Chart - 7"
      ],
      "metadata": {
        "id": "PIIx-8_IphqN"
      }
    },
    {
      "cell_type": "markdown",
      "source": [
        "#### **Checking average prices in different room types.**  "
      ],
      "metadata": {
        "id": "eUxBl03xNlTV"
      }
    },
    {
      "cell_type": "code",
      "source": [
        "# Chart - 7 visualization code.\n",
        "avg_price = df.groupby([\"room_type\"])[\"price\"].mean()\n",
        "ap = avg_price.plot.bar(figsize = (8,4), fontsize = 10, color = 'm')\n",
        "ap.set_xlabel(\"Room Type\", fontsize = 12)\n",
        "ap.set_ylabel(\"Average Price\", fontsize = 12)\n",
        "ap.set_title(\"Average price in different room type\", fontsize = 14)\n",
        "plt.show()"
      ],
      "metadata": {
        "id": "lqAIGUfyphqO"
      },
      "execution_count": null,
      "outputs": []
    },
    {
      "cell_type": "markdown",
      "source": [
        "##### 1. Why did you pick the specific chart?"
      ],
      "metadata": {
        "id": "t27r6nlMphqO"
      }
    },
    {
      "cell_type": "markdown",
      "source": [
        "To get an idea of the average price of each room type in relation to its demand/occupancy."
      ],
      "metadata": {
        "id": "iv6ro40sphqO"
      }
    },
    {
      "cell_type": "markdown",
      "source": [
        "##### 2. What is/are the insight(s) found from the chart?"
      ],
      "metadata": {
        "id": "r2jJGEOYphqO"
      }
    },
    {
      "cell_type": "markdown",
      "source": [
        "This graph shows that the average mean price of an entire home/apt is the highest when compared to the other two room types. This also provides us with a profit-oriented new listing strategy to focus more on entire homes/apts."
      ],
      "metadata": {
        "id": "Po6ZPi4hphqO"
      }
    },
    {
      "cell_type": "markdown",
      "source": [
        "##### 3. Will the gained insights help creating a positive business impact?\n",
        "Are there any insights that lead to negative growth? Justify with specific reason."
      ],
      "metadata": {
        "id": "b0JNsNcRphqO"
      }
    },
    {
      "cell_type": "markdown",
      "source": [
        "This chart draws special attention to ensure that the company focuses more on availability, followed by providing the best service to the customers for this room type in order to achieve overall positive customer feedback and reviews, which will ultimately boost bookings."
      ],
      "metadata": {
        "id": "xvSq8iUTphqO"
      }
    },
    {
      "cell_type": "markdown",
      "source": [
        "#### Chart - 8"
      ],
      "metadata": {
        "id": "BZR9WyysphqO"
      }
    },
    {
      "cell_type": "markdown",
      "source": [
        "#### **Checking average stays in different room types.**"
      ],
      "metadata": {
        "id": "mw1PHXxWP2AF"
      }
    },
    {
      "cell_type": "code",
      "source": [
        "# Chart - 8 visualization code.\n",
        "df.groupby('room_type')['minimum_nights'].mean().plot(figsize= (4,4), kind='bar', color='peru')\n",
        "plt.title('Average Stays in different room types', fontsize = 14)\n",
        "plt.xlabel('Room types', fontsize = 12)\n",
        "plt.ylabel('Average Stays', fontsize = 12 )\n",
        "plt.show()"
      ],
      "metadata": {
        "id": "TdPTWpAVphqO"
      },
      "execution_count": null,
      "outputs": []
    },
    {
      "cell_type": "markdown",
      "source": [
        "##### 1. Why did you pick the specific chart?"
      ],
      "metadata": {
        "id": "jj7wYXLtphqO"
      }
    },
    {
      "cell_type": "markdown",
      "source": [
        "This chart was chosen to show the average number of nights spent in different room types."
      ],
      "metadata": {
        "id": "Ob8u6rCTphqO"
      }
    },
    {
      "cell_type": "markdown",
      "source": [
        "##### 2. What is/are the insight(s) found from the chart?"
      ],
      "metadata": {
        "id": "eZrbJ2SmphqO"
      }
    },
    {
      "cell_type": "markdown",
      "source": [
        "This chart informs us about providing adequate facilities on average days and when the respective room type will be available for booking again."
      ],
      "metadata": {
        "id": "mZtgC_hjphqO"
      }
    },
    {
      "cell_type": "markdown",
      "source": [
        "##### 3. Will the gained insights help creating a positive business impact?\n",
        "Are there any insights that lead to negative growth? Justify with specific reason."
      ],
      "metadata": {
        "id": "rFu4xreNphqO"
      }
    },
    {
      "cell_type": "markdown",
      "source": [
        "We can calculate business profit using this chart by performing simple calculations such as the number of times each room type is available for booking in a month and deciding on a booking price that takes into account expenses."
      ],
      "metadata": {
        "id": "ey_0qi68phqO"
      }
    },
    {
      "cell_type": "markdown",
      "source": [
        "#### Chart - 9"
      ],
      "metadata": {
        "id": "YJ55k-q6phqO"
      }
    },
    {
      "cell_type": "markdown",
      "source": [
        "#### **Checking location of different neighbourhood groups in the city.**"
      ],
      "metadata": {
        "id": "0H7f_hibWEnj"
      }
    },
    {
      "cell_type": "code",
      "source": [
        "# Chart - 9 visualization code.\n",
        "\n",
        "# Chart - visualization of each neighbourhood_group using latitude and longitude\n",
        "plt.figure(figsize = (14,7))\n",
        "sns.scatterplot(x = df[\"longitude\"], y = df[\"latitude\"], hue = df[\"neighbourhood_group\"],palette='colorblind')\n",
        "plt.show()"
      ],
      "metadata": {
        "id": "B2aS4O1ophqO"
      },
      "execution_count": null,
      "outputs": []
    },
    {
      "cell_type": "markdown",
      "source": [
        "##### 1. Why did you pick the specific chart?"
      ],
      "metadata": {
        "id": "gCFgpxoyphqP"
      }
    },
    {
      "cell_type": "markdown",
      "source": [
        "This chart shows the location with respect to longitude and latitude of different neighbourhood groups in the city."
      ],
      "metadata": {
        "id": "TVxDimi2phqP"
      }
    },
    {
      "cell_type": "markdown",
      "source": [
        "##### 2. What is/are the insight(s) found from the chart?"
      ],
      "metadata": {
        "id": "OVtJsKN_phqQ"
      }
    },
    {
      "cell_type": "markdown",
      "source": [
        "The Scatter plot shows that Manhattan and Brooklyn have nearly identical longitudes, which explains why they both receive nearly 85% of bookings. And because Staten Island is on the outskirts, there are fewer bookings and listings."
      ],
      "metadata": {
        "id": "ngGi97qjphqQ"
      }
    },
    {
      "cell_type": "markdown",
      "source": [
        "##### 3. Will the gained insights help creating a positive business impact?\n",
        "Are there any insights that lead to negative growth? Justify with specific reason."
      ],
      "metadata": {
        "id": "lssrdh5qphqQ"
      }
    },
    {
      "cell_type": "markdown",
      "source": [
        "This chart shows that locations closer to popular hotspots can attract more bookings, so the company must work hard to list a greater variety of popular room types in order to increase overall revenue by attracting customers."
      ],
      "metadata": {
        "id": "tBpY5ekJphqQ"
      }
    },
    {
      "cell_type": "markdown",
      "source": [
        "#### Chart - 10"
      ],
      "metadata": {
        "id": "U2RJ9gkRphqQ"
      }
    },
    {
      "cell_type": "code",
      "source": [
        "# Chart - 10 visualization code\n",
        "plt.figure(figsize = (14,7))\n",
        "\n",
        "# create a scatter plot that displays the longitude and latitude of the listings in the Airbnb NYC dataset with room_types.\n",
        "ax = sns.scatterplot(x= df.longitude, y = df.latitude, hue = df.room_type, palette='colorblind')\n",
        "\n",
        "# set the title of the plot\n",
        "ax.set_title('Distribution of type of rooms across NYC', fontsize='14')\n",
        "plt.show()"
      ],
      "metadata": {
        "id": "GM7a4YP4phqQ"
      },
      "execution_count": null,
      "outputs": []
    },
    {
      "cell_type": "markdown",
      "source": [
        "##### 1. Why did you pick the specific chart?"
      ],
      "metadata": {
        "id": "1M8mcRywphqQ"
      }
    },
    {
      "cell_type": "markdown",
      "source": [
        "I chose scatterplot to see the distribution of types of rooms across NYC."
      ],
      "metadata": {
        "id": "8agQvks0phqQ"
      }
    },
    {
      "cell_type": "markdown",
      "source": [
        "##### 2. What is/are the insight(s) found from the chart?"
      ],
      "metadata": {
        "id": "tgIPom80phqQ"
      }
    },
    {
      "cell_type": "markdown",
      "source": [
        "From the avove chart we can see the demand for entire Home/Appartment and private room is at the fullest and very few areas we can see demand for shared room."
      ],
      "metadata": {
        "id": "Qp13pnNzphqQ"
      }
    },
    {
      "cell_type": "markdown",
      "source": [
        "##### 3. Will the gained insights help creating a positive business impact?\n",
        "Are there any insights that lead to negative growth? Justify with specific reason."
      ],
      "metadata": {
        "id": "JMzcOPDDphqR"
      }
    },
    {
      "cell_type": "markdown",
      "source": [
        "Most of the customers prefer booking Entire Appartment/Home and private room. So company must focus on expanding these room types more and  maximize profits."
      ],
      "metadata": {
        "id": "R4Ka1PC2phqR"
      }
    },
    {
      "cell_type": "markdown",
      "source": [
        "#### Chart - 11"
      ],
      "metadata": {
        "id": "x-EpHcCOp1ci"
      }
    },
    {
      "cell_type": "code",
      "source": [
        "# Chart - 11 visualization code.\n",
        "# Group the Airbnb data by neighbourhood group\n",
        "reviews_by_neighbourhood_group = df.groupby(\"neighbourhood_group\")[\"total_reviews\"].max()\n",
        "\n",
        "# Create a pie chart to visualize the distribution of maximum number of reviews among different neighbourhood groups\n",
        "plt.pie(reviews_by_neighbourhood_group, labels=reviews_by_neighbourhood_group.index, autopct='%1.1f%%')\n",
        "\n",
        "# Add a title to the chart\n",
        "plt.title(\"Number of maximum Reviews by Neighborhood Group in NYC\", fontsize='15')\n",
        "\n",
        "# Display the chart\n",
        "plt.show()"
      ],
      "metadata": {
        "id": "mAQTIvtqp1cj"
      },
      "execution_count": null,
      "outputs": []
    },
    {
      "cell_type": "markdown",
      "source": [
        "##### 1. Why did you pick the specific chart?"
      ],
      "metadata": {
        "id": "X_VqEhTip1ck"
      }
    },
    {
      "cell_type": "markdown",
      "source": [
        "To check which neighbourhood group in NYC has maximum reviews."
      ],
      "metadata": {
        "id": "-vsMzt_np1ck"
      }
    },
    {
      "cell_type": "markdown",
      "source": [
        "##### 2. What is/are the insight(s) found from the chart?"
      ],
      "metadata": {
        "id": "8zGJKyg5p1ck"
      }
    },
    {
      "cell_type": "markdown",
      "source": [
        "* The most popular neighborhoods for reviewing appear to be Queens and Manhattan, as both have a high number of maximum reviews.\n",
        "\n",
        "* Queens has the highest percentage of reviews (26.5%), but the third most listings (after Manhattan and Brooklyn). This suggests that Queens, despite having fewer listings than Manhattan and Brooklyn, may be a particularly popular destination for tourists or visitors.\n",
        "\n",
        "* Both Manhattan and Brooklyn have a high percentage of reviews, with 25.5% and 20.5%, respectively. This indicates that it is also a popular tourist or visitor destination. as there are more listings/bookings than queens.\n",
        "\n",
        "* Based on the large number of reviews, this data suggests that Queens, Manhattan, and Brooklyn are the most popular neighborhoods for tourists or visitors.\n",
        "\n"
      ],
      "metadata": {
        "id": "ZYdMsrqVp1ck"
      }
    },
    {
      "cell_type": "markdown",
      "source": [
        "##### 3. Will the gained insights help creating a positive business impact?\n",
        "Are there any insights that lead to negative growth? Justify with specific reason."
      ],
      "metadata": {
        "id": "PVzmfK_Ep1ck"
      }
    },
    {
      "cell_type": "markdown",
      "source": [
        "From the above pie chart we can see that maximum reviews are from Queens, Manhattan and Brooklyn, its safe to say that if company must implement similar techniques or do advertising in the other nighbourhood groups as well so that the listings/bookings and reviews increase in those neighbourhood groups as well which will maximise the profits."
      ],
      "metadata": {
        "id": "druuKYZpp1ck"
      }
    },
    {
      "cell_type": "markdown",
      "source": [
        "#### Chart - 12"
      ],
      "metadata": {
        "id": "n3dbpmDWp1ck"
      }
    },
    {
      "cell_type": "code",
      "source": [
        "# Chart - 12 visualization code"
      ],
      "metadata": {
        "id": "bwevp1tKp1ck"
      },
      "execution_count": null,
      "outputs": []
    },
    {
      "cell_type": "markdown",
      "source": [
        "##### 1. Why did you pick the specific chart?"
      ],
      "metadata": {
        "id": "ylSl6qgtp1ck"
      }
    },
    {
      "cell_type": "markdown",
      "source": [
        "Answer Here."
      ],
      "metadata": {
        "id": "m2xqNkiQp1ck"
      }
    },
    {
      "cell_type": "markdown",
      "source": [
        "##### 2. What is/are the insight(s) found from the chart?"
      ],
      "metadata": {
        "id": "ZWILFDl5p1ck"
      }
    },
    {
      "cell_type": "markdown",
      "source": [
        "Answer Here"
      ],
      "metadata": {
        "id": "x-lUsV2mp1ck"
      }
    },
    {
      "cell_type": "markdown",
      "source": [
        "##### 3. Will the gained insights help creating a positive business impact?\n",
        "Are there any insights that lead to negative growth? Justify with specific reason."
      ],
      "metadata": {
        "id": "M7G43BXep1ck"
      }
    },
    {
      "cell_type": "markdown",
      "source": [
        "Answer Here"
      ],
      "metadata": {
        "id": "5wwDJXsLp1cl"
      }
    },
    {
      "cell_type": "markdown",
      "source": [
        "#### Chart - 13"
      ],
      "metadata": {
        "id": "Ag9LCva-p1cl"
      }
    },
    {
      "cell_type": "code",
      "source": [
        "# Chart - 13 visualization code"
      ],
      "metadata": {
        "id": "EUfxeq9-p1cl"
      },
      "execution_count": null,
      "outputs": []
    },
    {
      "cell_type": "markdown",
      "source": [
        "##### 1. Why did you pick the specific chart?"
      ],
      "metadata": {
        "id": "E6MkPsBcp1cl"
      }
    },
    {
      "cell_type": "markdown",
      "source": [
        "Answer Here."
      ],
      "metadata": {
        "id": "V22bRsFWp1cl"
      }
    },
    {
      "cell_type": "markdown",
      "source": [
        "##### 2. What is/are the insight(s) found from the chart?"
      ],
      "metadata": {
        "id": "2cELzS2fp1cl"
      }
    },
    {
      "cell_type": "markdown",
      "source": [
        "Answer Here"
      ],
      "metadata": {
        "id": "ozQPc2_Ip1cl"
      }
    },
    {
      "cell_type": "markdown",
      "source": [
        "##### 3. Will the gained insights help creating a positive business impact?\n",
        "Are there any insights that lead to negative growth? Justify with specific reason."
      ],
      "metadata": {
        "id": "3MPXvC8up1cl"
      }
    },
    {
      "cell_type": "markdown",
      "source": [
        "Answer Here"
      ],
      "metadata": {
        "id": "GL8l1tdLp1cl"
      }
    },
    {
      "cell_type": "markdown",
      "source": [
        "#### Chart - 14 - Correlation Heatmap"
      ],
      "metadata": {
        "id": "NC_X3p0fY2L0"
      }
    },
    {
      "cell_type": "code",
      "source": [
        "# Correlation Heatmap visualization code"
      ],
      "metadata": {
        "id": "xyC9zolEZNRQ"
      },
      "execution_count": null,
      "outputs": []
    },
    {
      "cell_type": "markdown",
      "source": [
        "##### 1. Why did you pick the specific chart?"
      ],
      "metadata": {
        "id": "UV0SzAkaZNRQ"
      }
    },
    {
      "cell_type": "markdown",
      "source": [
        "Answer Here."
      ],
      "metadata": {
        "id": "DVPuT8LYZNRQ"
      }
    },
    {
      "cell_type": "markdown",
      "source": [
        "##### 2. What is/are the insight(s) found from the chart?"
      ],
      "metadata": {
        "id": "YPEH6qLeZNRQ"
      }
    },
    {
      "cell_type": "markdown",
      "source": [
        "Answer Here"
      ],
      "metadata": {
        "id": "bfSqtnDqZNRR"
      }
    },
    {
      "cell_type": "markdown",
      "source": [
        "#### Chart - 15 - Pair Plot"
      ],
      "metadata": {
        "id": "q29F0dvdveiT"
      }
    },
    {
      "cell_type": "code",
      "source": [
        "# Pair Plot visualization code"
      ],
      "metadata": {
        "id": "o58-TEIhveiU"
      },
      "execution_count": null,
      "outputs": []
    },
    {
      "cell_type": "markdown",
      "source": [
        "##### 1. Why did you pick the specific chart?"
      ],
      "metadata": {
        "id": "EXh0U9oCveiU"
      }
    },
    {
      "cell_type": "markdown",
      "source": [
        "Answer Here."
      ],
      "metadata": {
        "id": "eMmPjTByveiU"
      }
    },
    {
      "cell_type": "markdown",
      "source": [
        "##### 2. What is/are the insight(s) found from the chart?"
      ],
      "metadata": {
        "id": "22aHeOlLveiV"
      }
    },
    {
      "cell_type": "markdown",
      "source": [
        "Answer Here"
      ],
      "metadata": {
        "id": "uPQ8RGwHveiV"
      }
    },
    {
      "cell_type": "markdown",
      "source": [
        "## **5. Solution to Business Objective**"
      ],
      "metadata": {
        "id": "JcMwzZxoAimU"
      }
    },
    {
      "cell_type": "markdown",
      "source": [
        "#### What do you suggest the client to achieve Business Objective ?\n",
        "Explain Briefly."
      ],
      "metadata": {
        "id": "8G2x9gOozGDZ"
      }
    },
    {
      "cell_type": "markdown",
      "source": [
        "Answer Here."
      ],
      "metadata": {
        "id": "pASKb0qOza21"
      }
    },
    {
      "cell_type": "markdown",
      "source": [
        "# **Conclusion**"
      ],
      "metadata": {
        "id": "gCX9965dhzqZ"
      }
    },
    {
      "cell_type": "markdown",
      "source": [
        "Write the conclusion here."
      ],
      "metadata": {
        "id": "Fjb1IsQkh3yE"
      }
    },
    {
      "cell_type": "markdown",
      "source": [
        "### ***Hurrah! You have successfully completed your EDA Capstone Project !!!***"
      ],
      "metadata": {
        "id": "gIfDvo9L0UH2"
      }
    }
  ]
}